{
 "cells": [
  {
   "cell_type": "markdown",
   "id": "f7b2b840",
   "metadata": {},
   "source": [
    "# Session 6 : Sequential Workflows in LangGraph | Agentic AI using LangGraph | Video 5"
   ]
  },
  {
   "cell_type": "markdown",
   "id": "0bd6b4f5",
   "metadata": {},
   "source": [
    "https://youtu.be/bAWujyAl1Kk?list=PLKnIA16_RmvYsvB8qkUQuJmJNuiCUJFPL"
   ]
  },
  {
   "cell_type": "markdown",
   "id": "822d7620",
   "metadata": {},
   "source": []
  },
  {
   "cell_type": "markdown",
   "id": "fea7cdee",
   "metadata": {},
   "source": []
  },
  {
   "cell_type": "markdown",
   "id": "01530ec2",
   "metadata": {},
   "source": []
  },
  {
   "cell_type": "markdown",
   "id": "a7b85fc6",
   "metadata": {},
   "source": []
  }
 ],
 "metadata": {
  "kernelspec": {
   "display_name": "Python 3 (ipykernel)",
   "language": "python",
   "name": "python3"
  },
  "language_info": {
   "codemirror_mode": {
    "name": "ipython",
    "version": 3
   },
   "file_extension": ".py",
   "mimetype": "text/x-python",
   "name": "python",
   "nbconvert_exporter": "python",
   "pygments_lexer": "ipython3",
   "version": "3.9.13"
  }
 },
 "nbformat": 4,
 "nbformat_minor": 5
}
