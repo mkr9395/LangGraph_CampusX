{
 "cells": [
  {
   "cell_type": "markdown",
   "id": "98a937f5",
   "metadata": {},
   "source": [
    "# SESSION 11 : Persistence in LangGraph | Time Travel in LangGraph "
   ]
  },
  {
   "cell_type": "markdown",
   "id": "4c3c7d9a",
   "metadata": {},
   "source": [
    "https://youtu.be/_IPP7_Bi8uA?list=PLKnIA16_RmvYsvB8qkUQuJmJNuiCUJFPL"
   ]
  },
  {
   "cell_type": "markdown",
   "id": "27ea7e49",
   "metadata": {},
   "source": [
    "## Persistence"
   ]
  },
  {
   "cell_type": "markdown",
   "id": "5abd80bf",
   "metadata": {},
   "source": [
    "In **LangGraph**, **persistence** means the ability to **save and restore the state of a graph across runs**.\n",
    "\n",
    "\n",
    "Normally, when you run a LangGraph workflow (nodes + edges + state updates), the execution state exists only in memory. If the system crashes or you want to continue later, everything would be lost. Persistence solves this by storing state externally."
   ]
  },
  {
   "cell_type": "markdown",
   "id": "c2e85b09",
   "metadata": {},
   "source": [
    "### Key points about **persistence in LangGraph**:\n",
    "\n",
    "1. **State Storage**\n",
    "\n",
    "   * The graph’s **state** (variables, memory, messages, intermediate outputs, etc.) is stored in a backend.\n",
    "   * Supported backends include **SQLite, PostgreSQL, Redis, MongoDB, Weaviate, DynamoDB**, or even simple file-based persistence.\n",
    "\n",
    "\n",
    "\n",
    "2. **Checkpoints**\n",
    "\n",
    "   * LangGraph uses **checkpoints** to capture the state at specific points in execution.\n",
    "   * When you restart, the graph can **resume execution from the last checkpoint**, instead of starting over.\n",
    "\n",
    "\n",
    "\n",
    "3. **Use Cases**\n",
    "\n",
    "   * Long-running workflows (e.g., multi-turn conversations, document analysis).\n",
    "   * Fault-tolerant execution (resuming after crashes).\n",
    "   * Multi-agent systems where state continuity matters.\n",
    "   * Human-in-the-loop workflows where you pause and later resume.\n",
    "\n",
    "\n",
    "\n",
    "4. **How it looks in practice**\n",
    "   You typically initialize a graph with a **persistence layer**:\n",
    "\n",
    "   ```python\n",
    "   from langgraph.checkpoint.sqlite import SqliteSaver\n",
    "\n",
    "   # create persistence\n",
    "   checkpoint = SqliteSaver.from_conn_string(\"checkpoints.db\")\n",
    "\n",
    "   # pass persistence when compiling graph\n",
    "   app = graph.compile(checkpointer=checkpoint)\n",
    "   ```\n",
    "\n",
    "   Now the graph will automatically save state into `checkpoints.db` and reload it if you call it again with the same thread ID."
   ]
  },
  {
   "cell_type": "markdown",
   "id": "47ca2c0b",
   "metadata": {},
   "source": [
    "👉 In short: **persistence in LangGraph is about checkpointing and resuming execution by storing the graph state externally.**"
   ]
  },
  {
   "cell_type": "markdown",
   "id": "cdffcb92",
   "metadata": {},
   "source": [
    "\n",
    "### 1. **Short Term Memory**\n",
    "\n",
    "* The **current working state** of the graph (variables, intermediate outputs, recent messages).\n",
    "* Stored in memory but checkpointed so it can be **restored later**.\n",
    "\n",
    "---\n",
    "\n",
    "### 2. **Fault Tolerance**\n",
    "\n",
    "* If the system crashes, you don’t lose progress.\n",
    "* Because state is checkpointed, the graph can **resume from the last saved point** instead of restarting from scratch.\n",
    "\n",
    "---\n",
    "\n",
    "### 3. **Human in the Loop**\n",
    "\n",
    "* Execution can **pause at a checkpoint**, wait for human input/approval, and then **resume later**.\n",
    "* Useful for workflows that need **manual verification or decision-making**.\n",
    "\n",
    "---\n",
    "\n",
    "### 4. **Time Travel**\n",
    "\n",
    "* You can **roll back** to an earlier checkpoint and re-run from there.\n",
    "* Helps with debugging, auditing, or exploring “what-if” scenarios.\n",
    "\n",
    "---\n",
    "\n",
    "👉 In short:\n",
    "\n",
    "* **Short Term Memory** = working state,\n",
    "\n",
    "\n",
    "* **Fault Tolerance** = recover after crashes,\n",
    "\n",
    "\n",
    "* **Human in the Loop** = pause + resume with human input,\n",
    "\n",
    "\n",
    "* **Time Travel** = roll back to past checkpoints.\n"
   ]
  },
  {
   "cell_type": "markdown",
   "id": "4c79cc51",
   "metadata": {},
   "source": [
    "## Checkpointers"
   ]
  },
  {
   "cell_type": "markdown",
   "id": "5e3dea16",
   "metadata": {},
   "source": [
    "A **checkpointer** is a component that **saves and restores the graph’s state** at different points of execution.\n",
    "Think of it as a \"save slot\" in a video game — whenever the graph reaches a stable point, the checkpointer saves the **state, memory, and progress**, so you can resume later from there."
   ]
  },
  {
   "cell_type": "markdown",
   "id": "93430536",
   "metadata": {},
   "source": [
    "### 🔹 How Checkpointers Work\n",
    "\n",
    "1. **Save (Checkpointing)**\n",
    "\n",
    "   * After a node executes (or at key stages), the checkpointer **stores the state** (variables, intermediate outputs, messages, etc.) into a backend.\n",
    "   * This ensures that if execution stops, you don’t lose progress.\n",
    "\n",
    "\n",
    "\n",
    "2. **Load (Resuming)**\n",
    "\n",
    "   * When you rerun the graph with the same `thread_id` (or execution ID), the checkpointer **retrieves the last saved state** and continues from there instead of starting from scratch."
   ]
  },
  {
   "cell_type": "markdown",
   "id": "9dbbad81",
   "metadata": {},
   "source": [
    "### 🔹 Example\n",
    "\n",
    "```python\n",
    "from langgraph.checkpoint.sqlite import SqliteSaver\n",
    "from langgraph.graph import StateGraph\n",
    "\n",
    "# Create a checkpointer (SQLite backend)\n",
    "checkpointer = SqliteSaver.from_conn_string(\"checkpoints.db\")\n",
    "\n",
    "# Build a simple graph\n",
    "graph = StateGraph()\n",
    "\n",
    "# Compile graph with persistence\n",
    "app = graph.compile(checkpointer=checkpointer)\n",
    "\n",
    "# Run execution with a thread ID\n",
    "app.invoke({\"input\": \"Hello\"}, config={\"thread_id\": \"123\"})\n",
    "```\n",
    "\n",
    "* The **checkpointer** here (`SqliteSaver`) saves state into `checkpoints.db`.\n",
    "* If you run the graph again with `thread_id=\"123\"`, it **resumes** from where it left off."
   ]
  },
  {
   "cell_type": "markdown",
   "id": "f67f3f0b",
   "metadata": {},
   "source": [
    "### 🔹 Types of Checkpointers\n",
    "\n",
    "LangGraph provides different checkpointer implementations depending on the backend you want:\n",
    "\n",
    "* **In-memory** → for temporary runs (lost after shutdown).\n",
    "\n",
    "\n",
    "* **SQLite** → `SqliteSaver` (good for local development).\n",
    "\n",
    "\n",
    "* **PostgreSQL / DynamoDB / MongoDB / Redis / Weaviate** → for production use cases."
   ]
  },
  {
   "cell_type": "markdown",
   "id": "2a099472",
   "metadata": {},
   "source": [
    "✅ **In short:**\n",
    "A **checkpointer** is the engine of persistence in LangGraph.\n",
    "It decides **where** and **how** the state is saved, and makes it possible to pause, resume, and recover workflows reliably.\n"
   ]
  },
  {
   "cell_type": "markdown",
   "id": "c7cc17c3",
   "metadata": {},
   "source": [
    "## Threads"
   ]
  },
  {
   "cell_type": "markdown",
   "id": "09880798",
   "metadata": {},
   "source": [
    "In **LangGraph persistence**, a **thread** is simply an **independent execution context** (or “conversation/session”) that is tracked by a unique **thread ID**."
   ]
  },
  {
   "cell_type": "markdown",
   "id": "2bf70667",
   "metadata": {},
   "source": [
    "### 🔹 What is a Thread?\n",
    "\n",
    "* Think of a **thread** as a **timeline of state** for a graph.\n",
    "\n",
    "\n",
    "* Each thread has its own **state history**, managed via **checkpoints**.\n",
    "\n",
    "\n",
    "* Multiple threads can coexist — just like having different chat sessions or workflows running in parallel."
   ]
  },
  {
   "cell_type": "markdown",
   "id": "bbd96cdb",
   "metadata": {},
   "source": [
    "### 🔹 Why Threads?\n",
    "\n",
    "* Without threads, every run of your graph would overwrite the last state.\n",
    "\n",
    "\n",
    "* Threads let you **separate different runs** of the same workflow.\n",
    "\n",
    "\n",
    "* Example: If you build a chatbot, each user gets their **own thread**, so their history doesn’t mix with others."
   ]
  },
  {
   "cell_type": "markdown",
   "id": "19bb1c63",
   "metadata": {},
   "source": [
    "### 🔹 How Threads Work\n",
    "\n",
    "1. When you run a graph, you pass a **`thread_id`** in the config.\n",
    "\n",
    "   ```python\n",
    "   app.invoke({\"input\": \"Hello\"}, config={\"thread_id\": \"user_123\"})\n",
    "   ```\n",
    "\n",
    "   * The graph stores checkpoints for this specific thread.\n",
    "   * Next time you call with the same `thread_id`, it **resumes** from the last checkpoint.\n",
    "\n",
    "\n",
    "\n",
    "2. If you use a **different thread ID**, the graph starts **fresh** with no prior state.\n",
    "\n",
    "   ```python\n",
    "   app.invoke({\"input\": \"Hi\"}, config={\"thread_id\": \"user_456\"})\n",
    "   ```\n",
    "\n",
    "   → This runs independently from `user_123`."
   ]
  },
  {
   "cell_type": "markdown",
   "id": "c2945696",
   "metadata": {},
   "source": [
    "### 🔹 Example: Multi-user chatbot\n",
    "\n",
    "```python\n",
    "# User A conversation\n",
    "app.invoke({\"input\": \"Hello\"}, config={\"thread_id\": \"user_A\"})\n",
    "app.invoke({\"input\": \"How are you?\"}, config={\"thread_id\": \"user_A\"})\n",
    "# persists \"Hello → How are you?\"\n",
    "\n",
    "# User B conversation (separate thread)\n",
    "app.invoke({\"input\": \"Hi\"}, config={\"thread_id\": \"user_B\"})\n",
    "# persists only \"Hi\"\n",
    "```\n",
    "\n",
    "* **User A’s thread** stores their entire chat history.\n",
    "\n",
    "\n",
    "* **User B’s thread** has its own isolated history.\n",
    "\n",
    "\n",
    "* Both are checkpointed via the persistence layer."
   ]
  },
  {
   "cell_type": "markdown",
   "id": "f04aa51b",
   "metadata": {},
   "source": [
    "✅ **In short:**\n",
    "\n",
    "* A **thread** = one independent execution context (like a chat session).\n",
    "\n",
    "\n",
    "* **Checkpoints** are tied to threads, so you can pause/resume per thread.\n",
    "\n",
    "\n",
    "* This makes persistence multi-user and scalable.\n"
   ]
  },
  {
   "cell_type": "markdown",
   "id": "0fc369db",
   "metadata": {},
   "source": [
    "## Time-travel"
   ]
  },
  {
   "cell_type": "markdown",
   "id": "7b307c0f",
   "metadata": {},
   "source": [
    "**Time Travel** means the ability to **go back to a previous checkpointed state** of a graph and resume execution from there — instead of only continuing forward from the latest state.\n",
    "\n",
    "In other words, every time the graph saves a checkpoint (via the checkpointer), that snapshot can be revisited later like a \"save point\" in a video game."
   ]
  },
  {
   "cell_type": "markdown",
   "id": "6c661b41",
   "metadata": {},
   "source": [
    "### 🔹 How It Works\n",
    "\n",
    "* Each **thread** has multiple **checkpoints** saved over time.\n",
    "\n",
    "\n",
    "* Normally, you resume from the **latest checkpoint**.\n",
    "\n",
    "\n",
    "* With **time travel**, you can pick an **earlier checkpoint** and continue execution as if you were at that moment in the past."
   ]
  },
  {
   "cell_type": "markdown",
   "id": "351b1ea5",
   "metadata": {},
   "source": [
    "### 🔹 Why is Time Travel Useful?\n",
    "\n",
    "\n",
    "\n",
    "1. **Debugging**\n",
    "\n",
    "   * If something goes wrong later in the workflow, you can rewind to an earlier state and step through the execution again.\n",
    "\n",
    "\n",
    "\n",
    "2. **What-if Scenarios**\n",
    "\n",
    "   * You can branch off from an earlier state and test a **different path of execution** without rerunning the whole workflow from the beginning.\n",
    "\n",
    "\n",
    "\n",
    "3. **Auditing / Traceability**\n",
    "\n",
    "   * Lets you review **past states** for compliance, reproducibility, or analysis.\n",
    "\n",
    "\n",
    "\n",
    "4. **Human-in-the-Loop Corrections**\n",
    "\n",
    "   * If a human gives incorrect input at some point, you can **rewind to before that input** and re-run with the corrected one.\n",
    "\n",
    "---\n",
    "\n",
    "### 🔹 Example\n",
    "\n",
    "```python\n",
    "# Suppose thread_id=\"user_123\" has checkpoints at steps 1, 2, 3\n",
    "\n",
    "# By default, resume from latest (step 3)\n",
    "app.invoke({\"input\": \"continue\"}, config={\"thread_id\": \"user_123\"})\n",
    "\n",
    "# With time travel → resume from step 1\n",
    "app.invoke({\"input\": \"redo\"}, config={\"thread_id\": \"user_123\", \"checkpoint_id\": 1})\n",
    "```\n",
    "\n",
    "Here, you’ve effectively “traveled back in time” to step 1 and restarted execution from there.\n",
    "\n",
    "---"
   ]
  },
  {
   "cell_type": "markdown",
   "id": "d4f43909",
   "metadata": {},
   "source": [
    "✅ **In short:**\n",
    "**Time travel** in LangGraph persistence lets you **rewind to an earlier checkpoint** and continue execution from that point.\n",
    "It’s useful for **debugging, auditing, branching experiments, and correcting mistakes**."
   ]
  },
  {
   "cell_type": "markdown",
   "id": "fdab1e4a",
   "metadata": {},
   "source": []
  },
  {
   "cell_type": "markdown",
   "id": "14604c6f",
   "metadata": {},
   "source": []
  },
  {
   "cell_type": "markdown",
   "id": "863004dd",
   "metadata": {},
   "source": []
  },
  {
   "cell_type": "markdown",
   "id": "71140444",
   "metadata": {},
   "source": []
  },
  {
   "cell_type": "markdown",
   "id": "6fd35861",
   "metadata": {},
   "source": []
  },
  {
   "cell_type": "markdown",
   "id": "500f38b7",
   "metadata": {},
   "source": []
  }
 ],
 "metadata": {
  "kernelspec": {
   "display_name": "Python 3 (ipykernel)",
   "language": "python",
   "name": "python3"
  },
  "language_info": {
   "codemirror_mode": {
    "name": "ipython",
    "version": 3
   },
   "file_extension": ".py",
   "mimetype": "text/x-python",
   "name": "python",
   "nbconvert_exporter": "python",
   "pygments_lexer": "ipython3",
   "version": "3.9.13"
  }
 },
 "nbformat": 4,
 "nbformat_minor": 5
}
